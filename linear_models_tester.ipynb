{
 "cells": [
  {
   "cell_type": "code",
   "execution_count": 1,
   "metadata": {},
   "outputs": [],
   "source": [
    "from python.models.linear_models import *\n",
    "import pandas as pd\n",
    "from sklearn.datasets import make_regression, make_classification\n",
    "from sklearn.metrics import mean_squared_error, accuracy_score, mean_absolute_error"
   ]
  },
  {
   "cell_type": "code",
   "execution_count": 14,
   "metadata": {},
   "outputs": [],
   "source": [
    "ridge = RidgeRegression()\n",
    "linear = LinearRegression()\n",
    "logic = LogisticRegression()\n",
    "lasso = LassoRegression(iterations=1000, learning_rate=0.01, l1=0.1)\n",
    "enet = ElasticNetRegression(iterations=1000, learning_rate=0.01, l1=0.01, l2=0.01)"
   ]
  },
  {
   "cell_type": "code",
   "execution_count": 15,
   "metadata": {},
   "outputs": [],
   "source": [
    "X, y = make_regression(n_samples=10000, n_features=100, noise=0.25)"
   ]
  },
  {
   "cell_type": "code",
   "execution_count": 16,
   "metadata": {},
   "outputs": [],
   "source": [
    "X_train = X[:800]\n",
    "X_test = X[800:]\n",
    "y_train = y[:800]\n",
    "y_test = y[800:]"
   ]
  },
  {
   "cell_type": "code",
   "execution_count": 17,
   "metadata": {},
   "outputs": [
    {
     "name": "stdout",
     "output_type": "stream",
     "text": [
      "Ridge Regression MSE:  0.10243049275734205\n",
      "Linear Regression MSE:  0.07062393059587414\n",
      "Lasso Regression MSE:  0.1774449910658907\n",
      "Elastic Net Regression MSE:  2.7587600307459974\n"
     ]
    }
   ],
   "source": [
    "ridge.fit(X_train, y_train)\n",
    "linear.fit(X_train, y_train)\n",
    "lasso.fit(X_train, y_train)\n",
    "enet.fit(X_train, y_train)\n",
    "\n",
    "ridge_pred = ridge.predict(X_test)\n",
    "linear_pred = linear.predict(X_test)\n",
    "lasso_pred = lasso.predict(X_test)\n",
    "enet_pred = enet.predict(X_test)\n",
    "\n",
    "print(\"Ridge Regression MSE: \", mean_squared_error(y_test, ridge_pred))\n",
    "print(\"Linear Regression MSE: \", mean_squared_error(y_test, linear_pred))\n",
    "print(\"Lasso Regression MSE: \", mean_squared_error(y_test, lasso_pred))\n",
    "print(\"Elastic Net Regression MSE: \", mean_squared_error(y_test, enet_pred))"
   ]
  },
  {
   "cell_type": "code",
   "execution_count": null,
   "metadata": {},
   "outputs": [],
   "source": []
  },
  {
   "cell_type": "code",
   "execution_count": null,
   "metadata": {},
   "outputs": [],
   "source": []
  },
  {
   "cell_type": "code",
   "execution_count": null,
   "metadata": {},
   "outputs": [],
   "source": []
  }
 ],
 "metadata": {
  "kernelspec": {
   "display_name": "kera",
   "language": "python",
   "name": "python3"
  },
  "language_info": {
   "codemirror_mode": {
    "name": "ipython",
    "version": 3
   },
   "file_extension": ".py",
   "mimetype": "text/x-python",
   "name": "python",
   "nbconvert_exporter": "python",
   "pygments_lexer": "ipython3",
   "version": "3.9.18"
  }
 },
 "nbformat": 4,
 "nbformat_minor": 2
}
